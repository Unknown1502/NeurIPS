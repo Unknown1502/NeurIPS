{
 "cells": [
  {
   "cell_type": "code",
   "execution_count": null,
   "metadata": {
    "execution": {
     "iopub.execute_input": "2025-10-24T10:14:02.406692Z",
     "iopub.status.busy": "2025-10-24T10:14:02.406336Z",
     "iopub.status.idle": "2025-10-24T10:14:04.958995Z",
     "shell.execute_reply": "2025-10-24T10:14:04.957623Z",
     "shell.execute_reply.started": "2025-10-24T10:14:02.406651Z"
    },
    "trusted": true
   },
   "outputs": [
    {
     "name": "stdout",
     "output_type": "stream",
     "text": [
      "Cloning into 'NeurIPS'...\n",
      "remote: Enumerating objects: 560, done.\u001b[K\n",
      "remote: Counting objects: 100% (560/560), done.\u001b[K\n",
      "remote: Compressing objects: 100% (74/74), done.\u001b[K\n",
      "remote: Total 560 (delta 484), reused 560 (delta 484), pack-reused 0 (from 0)\u001b[K\n",
      "Receiving objects: 100% (560/560), 2.59 MiB | 4.23 MiB/s, done.\n",
      "Resolving deltas: 100% (484/484), done.\n"
     ]
    }
   ],
   "source": [
    "!git clone https://github.com/Unknown1502/NeurIPS.git /kaggle/working/NeurIPS\n",
    "!ls -la /kaggle/working/NeurIPS\n",
    "!ls /kaggle/working/NeurIPS/data | head -10\n"
   ]
  },
  {
   "cell_type": "code",
   "execution_count": 6,
   "metadata": {
    "execution": {
     "iopub.execute_input": "2025-10-24T10:19:30.107759Z",
     "iopub.status.busy": "2025-10-24T10:19:30.107258Z",
     "iopub.status.idle": "2025-10-24T10:19:30.135696Z",
     "shell.execute_reply": "2025-10-24T10:19:30.134345Z",
     "shell.execute_reply.started": "2025-10-24T10:19:30.107722Z"
    },
    "trusted": true
   },
   "outputs": [
    {
     "name": "stdout",
     "output_type": "stream",
     "text": [
      "======================================================================\n",
      "SETUP COMPLETE\n",
      "======================================================================\n",
      "Repository path: /kaggle/working/NeurIPS\n",
      "Data directory: /kaggle/working/NeurIPS/data\n",
      "Solutions directory: /kaggle/working/solutions\n",
      "======================================================================\n"
     ]
    }
   ],
   "source": [
    "import json\n",
    "import sys\n",
    "from pathlib import Path\n",
    "\n",
    "# ============================================================================\n",
    "# PATH CONFIGURATION\n",
    "# ============================================================================\n",
    "\n",
    "# Repository path\n",
    "# LOCAL:  repo_path = r'c:\\Users\\prajw\\OneDrive\\Desktop\\google golf'\n",
    "# KAGGLE: repo_path = '/kaggle/working/NeurIPS'\n",
    "\n",
    "repo_path = '/kaggle/working/NeurIPS'  # KAGGLE PATH\n",
    "sys.path.insert(0, repo_path)\n",
    "\n",
    "# Data directory path (dataset is in the GitHub repo)\n",
    "# LOCAL:  DATA_DIR = \"./data\"\n",
    "# KAGGLE: DATA_DIR = \"/kaggle/working/NeurIPS/data\"\n",
    "\n",
    "DATA_DIR = \"/kaggle/working/NeurIPS/data\"  # KAGGLE PATH\n",
    "\n",
    "# Solutions output directory\n",
    "# LOCAL:  SOLUTIONS_DIR = \"./solutions\"\n",
    "# KAGGLE: SOLUTIONS_DIR = \"/kaggle/working/solutions\"\n",
    "\n",
    "SOLUTIONS_DIR = \"/kaggle/working/solutions\"  # KAGGLE PATH\n",
    "\n",
    "# ============================================================================\n",
    "# IMPORTS\n",
    "# ============================================================================\n",
    "\n",
    "from arc_solver import ARCTaskSolver\n",
    "from utils import grid_operations as go\n",
    "from utils import pattern_detection as pd\n",
    "from collections import Counter\n",
    "from typing import List, Tuple, Dict\n",
    "\n",
    "# Create solutions directory\n",
    "Path(SOLUTIONS_DIR).mkdir(exist_ok=True, parents=True)\n",
    "\n",
    "# ============================================================================\n",
    "# VERIFY SETUP\n",
    "# ============================================================================\n",
    "\n",
    "print(\"=\"*70)\n",
    "print(\"SETUP COMPLETE\")\n",
    "print(\"=\"*70)\n",
    "print(f\"Repository path: {repo_path}\")\n",
    "print(f\"Data directory: {DATA_DIR}\")\n",
    "print(f\"Solutions directory: {Path(SOLUTIONS_DIR).absolute()}\")\n",
    "print(\"=\"*70)\n"
   ]
  },
  {
   "cell_type": "code",
   "execution_count": 7,
   "metadata": {
    "execution": {
     "iopub.execute_input": "2025-10-24T10:19:45.564525Z",
     "iopub.status.busy": "2025-10-24T10:19:45.564190Z",
     "iopub.status.idle": "2025-10-24T10:19:45.577936Z",
     "shell.execute_reply": "2025-10-24T10:19:45.576696Z",
     "shell.execute_reply.started": "2025-10-24T10:19:45.564485Z"
    },
    "trusted": true
   },
   "outputs": [
    {
     "name": "stdout",
     "output_type": "stream",
     "text": [
      "DATASET VERIFICATION\n",
      "============================================================\n",
      "Data directory found: /kaggle/working/NeurIPS/data\n",
      "Total task files: 400\n",
      "\n",
      "First 5 task files:\n",
      "  1. task240.json\n",
      "  2. task247.json\n",
      "  3. task164.json\n",
      "  4. task264.json\n",
      "  5. task271.json\n",
      "\n",
      "Sample task structure (task001.json):\n",
      "  Keys: ['train', 'test', 'arc-gen']\n",
      "  Train examples: 3\n",
      "  Test examples: 1\n",
      "  Arc-gen examples: 0\n",
      "\n",
      "Dataset verification successful!\n",
      "============================================================\n"
     ]
    }
   ],
   "source": [
    "# Verify dataset exists and check structure\n",
    "print(\"DATASET VERIFICATION\")\n",
    "print(\"=\"*60)\n",
    "\n",
    "data_path = Path(DATA_DIR)\n",
    "if data_path.exists():\n",
    "    print(f\"Data directory found: {data_path}\")\n",
    "    \n",
    "    # Count task files\n",
    "    task_files = list(data_path.glob(\"task*.json\"))\n",
    "    print(f\"Total task files: {len(task_files)}\")\n",
    "    \n",
    "    if task_files:\n",
    "        # Show first few task files\n",
    "        print(f\"\\nFirst 5 task files:\")\n",
    "        for i, task_file in enumerate(task_files[:5], 1):\n",
    "            print(f\"  {i}. {task_file.name}\")\n",
    "        \n",
    "        # Check a sample task structure\n",
    "        with open(task_files[0], 'r') as f:\n",
    "            sample = json.load(f)\n",
    "        \n",
    "        print(f\"\\nSample task structure (task001.json):\")\n",
    "        print(f\"  Keys: {list(sample.keys())}\")\n",
    "        if 'train' in sample:\n",
    "            print(f\"  Train examples: {len(sample['train'])}\")\n",
    "        if 'test' in sample:\n",
    "            print(f\"  Test examples: {len(sample['test'])}\")\n",
    "        if 'arc-gen' in sample:\n",
    "            print(f\"  Arc-gen examples: {len(sample.get('arc-gen', []))}\")\n",
    "        \n",
    "        print(\"\\nDataset verification successful!\")\n",
    "    else:\n",
    "        print(\"ERROR: No task files found in data directory\")\n",
    "else:\n",
    "    print(f\"ERROR: Data directory not found: {data_path}\")\n",
    "    print(\"Make sure you have cloned the repository in the previous cell\")\n",
    "\n",
    "print(\"=\"*60)\n"
   ]
  },
  {
   "cell_type": "code",
   "execution_count": 8,
   "metadata": {
    "execution": {
     "iopub.execute_input": "2025-10-24T10:19:58.675029Z",
     "iopub.status.busy": "2025-10-24T10:19:58.674687Z",
     "iopub.status.idle": "2025-10-24T10:19:58.685586Z",
     "shell.execute_reply": "2025-10-24T10:19:58.684396Z",
     "shell.execute_reply.started": "2025-10-24T10:19:58.675004Z"
    },
    "trusted": true
   },
   "outputs": [
    {
     "name": "stdout",
     "output_type": "stream",
     "text": [
      "Solver initialized with 400 tasks\n",
      "\n",
      "Task structure verified:\n",
      "  Train examples: 3\n",
      "  Test examples: 1\n",
      "  Arc-gen examples: 0\n",
      "\n",
      "Solver initialized successfully!\n"
     ]
    }
   ],
   "source": [
    "# Initialize the solver framework\n",
    "solver = ARCTaskSolver(data_dir=DATA_DIR, solutions_dir=SOLUTIONS_DIR)\n",
    "\n",
    "# Verify initialization\n",
    "task_files = list(Path(DATA_DIR).glob(\"task*.json\"))\n",
    "print(f\"Solver initialized with {len(task_files)} tasks\")\n",
    "\n",
    "if task_files:\n",
    "    # Check first task\n",
    "    with open(task_files[0], 'r') as f:\n",
    "        sample = json.load(f)\n",
    "    \n",
    "    print(f\"\\nTask structure verified:\")\n",
    "    print(f\"  Train examples: {len(sample.get('train', []))}\")\n",
    "    print(f\"  Test examples: {len(sample.get('test', []))}\")\n",
    "    print(f\"  Arc-gen examples: {len(sample.get('arc-gen', []))}\")\n",
    "    \n",
    "    print(\"\\nSolver initialized successfully!\")\n",
    "else:\n",
    "    print(\"\\nERROR: No task files found\")\n",
    "    print(\"Verify DATA_DIR path is correct\")\n"
   ]
  },
  {
   "cell_type": "code",
   "execution_count": 9,
   "metadata": {
    "execution": {
     "iopub.execute_input": "2025-10-24T10:20:12.156796Z",
     "iopub.status.busy": "2025-10-24T10:20:12.156031Z",
     "iopub.status.idle": "2025-10-24T10:20:12.201432Z",
     "shell.execute_reply": "2025-10-24T10:20:12.199379Z",
     "shell.execute_reply.started": "2025-10-24T10:20:12.156765Z"
    },
    "trusted": true
   },
   "outputs": [
    {
     "name": "stdout",
     "output_type": "stream",
     "text": [
      "================================================================================\n",
      "TASK 001 ANALYSIS\n",
      "================================================================================\n",
      "Train examples:   5\n",
      "Test examples:    1\n",
      "Arc-gen examples: 262\n",
      "TOTAL examples:   268\n",
      "================================================================================\n",
      "\n",
      "TRAIN Examples:\n",
      "  Example 1:\n",
      "    Input:  3x3 grid\n",
      "    Output: 9x9 grid\n",
      "    Input grid:  [[0, 7, 7], [7, 7, 7], [0, 7, 7]]\n",
      "    Output grid: [[0, 0, 0, 0, 7, 7, 0, 7, 7], [0, 0, 0, 7, 7, 7, 7, 7, 7], [0, 0, 0, 0, 7, 7, 0, 7, 7], [0, 7, 7, 0, 7, 7, 0, 7, 7], [7, 7, 7, 7, 7, 7, 7, 7, 7], [0, 7, 7, 0, 7, 7, 0, 7, 7], [0, 0, 0, 0, 7, 7, 0, 7, 7], [0, 0, 0, 7, 7, 7, 7, 7, 7], [0, 0, 0, 0, 7, 7, 0, 7, 7]]\n",
      "  Example 2:\n",
      "    Input:  3x3 grid\n",
      "    Output: 9x9 grid\n",
      "    Input grid:  [[4, 0, 4], [0, 0, 0], [0, 4, 0]]\n",
      "    Output grid: [[4, 0, 4, 0, 0, 0, 4, 0, 4], [0, 0, 0, 0, 0, 0, 0, 0, 0], [0, 4, 0, 0, 0, 0, 0, 4, 0], [0, 0, 0, 0, 0, 0, 0, 0, 0], [0, 0, 0, 0, 0, 0, 0, 0, 0], [0, 0, 0, 0, 0, 0, 0, 0, 0], [0, 0, 0, 4, 0, 4, 0, 0, 0], [0, 0, 0, 0, 0, 0, 0, 0, 0], [0, 0, 0, 0, 4, 0, 0, 0, 0]]\n",
      "\n",
      "TEST Examples:\n",
      "  Example 1:\n",
      "    Input:  3x3 grid\n",
      "    Output: 9x9 grid\n",
      "    Input grid:  [[7, 0, 7], [7, 0, 7], [7, 7, 0]]\n",
      "    Output grid: [[7, 0, 7, 0, 0, 0, 7, 0, 7], [7, 0, 7, 0, 0, 0, 7, 0, 7], [7, 7, 0, 0, 0, 0, 7, 7, 0], [7, 0, 7, 0, 0, 0, 7, 0, 7], [7, 0, 7, 0, 0, 0, 7, 0, 7], [7, 7, 0, 0, 0, 0, 7, 7, 0], [7, 0, 7, 7, 0, 7, 0, 0, 0], [7, 0, 7, 7, 0, 7, 0, 0, 0], [7, 7, 0, 7, 7, 0, 0, 0, 0]]\n",
      "\n",
      "ARC-GEN: 262 additional examples available\n",
      "\n"
     ]
    }
   ],
   "source": [
    "# Select task to analyze\n",
    "TASK_ID = 1\n",
    "\n",
    "# Load task data\n",
    "task_data = solver.load_task(TASK_ID)\n",
    "\n",
    "# Print detailed analysis\n",
    "solver.print_task_analysis(TASK_ID)"
   ]
  },
  {
   "cell_type": "code",
   "execution_count": 10,
   "metadata": {
    "execution": {
     "iopub.execute_input": "2025-10-24T10:20:23.164876Z",
     "iopub.status.busy": "2025-10-24T10:20:23.164442Z",
     "iopub.status.idle": "2025-10-24T10:20:23.173868Z",
     "shell.execute_reply": "2025-10-24T10:20:23.172677Z",
     "shell.execute_reply.started": "2025-10-24T10:20:23.164852Z"
    },
    "trusted": true
   },
   "outputs": [
    {
     "name": "stdout",
     "output_type": "stream",
     "text": [
      "TRAINING EXAMPLES:\n",
      "\n",
      "============================================================\n",
      "Example 1\n",
      "============================================================\n",
      "\n",
      "Input (3x3):\n",
      "   [0, 7, 7]\n",
      "   [7, 7, 7]\n",
      "   [0, 7, 7]\n",
      "\n",
      "Output (9x9):\n",
      "   [0, 0, 0, 0, 7, 7, 0, 7, 7]\n",
      "   [0, 0, 0, 7, 7, 7, 7, 7, 7]\n",
      "   [0, 0, 0, 0, 7, 7, 0, 7, 7]\n",
      "   [0, 7, 7, 0, 7, 7, 0, 7, 7]\n",
      "   [7, 7, 7, 7, 7, 7, 7, 7, 7]\n",
      "   [0, 7, 7, 0, 7, 7, 0, 7, 7]\n",
      "   [0, 0, 0, 0, 7, 7, 0, 7, 7]\n",
      "   [0, 0, 0, 7, 7, 7, 7, 7, 7]\n",
      "   [0, 0, 0, 0, 7, 7, 0, 7, 7]\n",
      "\n",
      "\n",
      "============================================================\n",
      "Example 2\n",
      "============================================================\n",
      "\n",
      "Input (3x3):\n",
      "   [4, 0, 4]\n",
      "   [0, 0, 0]\n",
      "   [0, 4, 0]\n",
      "\n",
      "Output (9x9):\n",
      "   [4, 0, 4, 0, 0, 0, 4, 0, 4]\n",
      "   [0, 0, 0, 0, 0, 0, 0, 0, 0]\n",
      "   [0, 4, 0, 0, 0, 0, 0, 4, 0]\n",
      "   [0, 0, 0, 0, 0, 0, 0, 0, 0]\n",
      "   [0, 0, 0, 0, 0, 0, 0, 0, 0]\n",
      "   [0, 0, 0, 0, 0, 0, 0, 0, 0]\n",
      "   [0, 0, 0, 4, 0, 4, 0, 0, 0]\n",
      "   [0, 0, 0, 0, 0, 0, 0, 0, 0]\n",
      "   [0, 0, 0, 0, 4, 0, 0, 0, 0]\n",
      "\n"
     ]
    }
   ],
   "source": [
    "def visualize_example(input_grid, output_grid, example_num=1):\n",
    "    \"\"\"Display an input-output pair.\"\"\"\n",
    "    print(f\"\\n{'='*60}\")\n",
    "    print(f\"Example {example_num}\")\n",
    "    print(f\"{'='*60}\")\n",
    "    \n",
    "    print(f\"\\nInput ({len(input_grid)}x{len(input_grid[0]) if input_grid else 0}):\")\n",
    "    for row in input_grid:\n",
    "        print(\"  \", row)\n",
    "    \n",
    "    print(f\"\\nOutput ({len(output_grid)}x{len(output_grid[0]) if output_grid else 0}):\")\n",
    "    for row in output_grid:\n",
    "        print(\"  \", row)\n",
    "    \n",
    "    print()\n",
    "\n",
    "# Visualize first 2 training examples\n",
    "print(\"TRAINING EXAMPLES:\")\n",
    "for i, pair in enumerate(task_data['train'][:2], 1):\n",
    "    visualize_example(pair['input'], pair['output'], i)"
   ]
  },
  {
   "cell_type": "code",
   "execution_count": 11,
   "metadata": {
    "execution": {
     "iopub.execute_input": "2025-10-24T10:20:35.305111Z",
     "iopub.status.busy": "2025-10-24T10:20:35.304556Z",
     "iopub.status.idle": "2025-10-24T10:20:35.314322Z",
     "shell.execute_reply": "2025-10-24T10:20:35.313029Z",
     "shell.execute_reply.started": "2025-10-24T10:20:35.305088Z"
    },
    "trusted": true
   },
   "outputs": [
    {
     "name": "stdout",
     "output_type": "stream",
     "text": [
      "TRANSFORMATION CHARACTERISTICS:\n",
      "  [X] Changes Dimensions\n",
      "  [X] Increases Size\n",
      "  [X] Preserves Colors\n",
      "  [X] Constant Output Size\n",
      "\n",
      "============================================================\n",
      "COMPLEXITY ANALYSIS:\n",
      "  max_input_size: 9\n",
      "  max_output_size: 81\n",
      "  unique_colors_input: 5\n",
      "  unique_colors_output: 5\n",
      "  dimension_changes: True\n",
      "  variable_output_size: False\n",
      "\n",
      "============================================================\n",
      "SUGGESTED APPROACHES:\n",
      "  1. Scaling or expansion operation\n",
      "  2. Output size is constant - may be counting or aggregation\n"
     ]
    }
   ],
   "source": [
    "# Gather input and output grids\n",
    "input_grids = [pair['input'] for pair in task_data['train']]\n",
    "output_grids = [pair['output'] for pair in task_data['train']]\n",
    "\n",
    "# Detect transformation type\n",
    "print(\"TRANSFORMATION CHARACTERISTICS:\")\n",
    "trans_type = pd.detect_transformation_type(input_grids, output_grids)\n",
    "for key, value in trans_type.items():\n",
    "    if value:\n",
    "        print(f\"  [X] {key.replace('_', ' ').title()}\")\n",
    "\n",
    "print(\"\\n\" + \"=\"*60)\n",
    "print(\"COMPLEXITY ANALYSIS:\")\n",
    "complexity = pd.analyze_task_complexity(input_grids, output_grids)\n",
    "for key, value in complexity.items():\n",
    "    print(f\"  {key}: {value}\")\n",
    "\n",
    "print(\"\\n\" + \"=\"*60)\n",
    "print(\"SUGGESTED APPROACHES:\")\n",
    "suggestions = pd.suggest_approach(input_grids, output_grids)\n",
    "for i, suggestion in enumerate(suggestions, 1):\n",
    "    print(f\"  {i}. {suggestion}\")\n"
   ]
  },
  {
   "cell_type": "code",
   "execution_count": 12,
   "metadata": {
    "execution": {
     "iopub.execute_input": "2025-10-24T10:20:46.090178Z",
     "iopub.status.busy": "2025-10-24T10:20:46.089845Z",
     "iopub.status.idle": "2025-10-24T10:20:46.098009Z",
     "shell.execute_reply": "2025-10-24T10:20:46.096903Z",
     "shell.execute_reply.started": "2025-10-24T10:20:46.090156Z"
    },
    "trusted": true
   },
   "outputs": [
    {
     "name": "stdout",
     "output_type": "stream",
     "text": [
      "Testing initial solution on first training example:\n",
      "Input dimensions: 3x3\n",
      "Expected output dimensions: 9x9\n",
      "Actual output dimensions: 9x9\n",
      "Match: False\n"
     ]
    }
   ],
   "source": [
    "# Example solution for Task 1 (tiling pattern)\n",
    "# Pattern observed: Input is 3x3, output tiles it into 3x3 arrangement (9x9 total)\n",
    "\n",
    "def solve_v1(grid):\n",
    "    \"\"\"\n",
    "    Clear implementation - tile the input 3x3.\n",
    "    This is the initial version focused on correctness.\n",
    "    \"\"\"\n",
    "    # Tile horizontally 3 times\n",
    "    tiled_horizontal = [row * 3 for row in grid]\n",
    "    \n",
    "    # Tile vertically 3 times\n",
    "    result = tiled_horizontal * 3\n",
    "    \n",
    "    return result\n",
    "\n",
    "# Test on first training example\n",
    "test_input = task_data['train'][0]['input']\n",
    "test_output = task_data['train'][0]['output']\n",
    "result = solve_v1(test_input)\n",
    "\n",
    "print(\"Testing initial solution on first training example:\")\n",
    "print(f\"Input dimensions: {len(test_input)}x{len(test_input[0])}\")\n",
    "print(f\"Expected output dimensions: {len(test_output)}x{len(test_output[0])}\")\n",
    "print(f\"Actual output dimensions: {len(result)}x{len(result[0])}\")\n",
    "print(f\"Match: {result == test_output}\")"
   ]
  },
  {
   "cell_type": "code",
   "execution_count": 13,
   "metadata": {
    "execution": {
     "iopub.execute_input": "2025-10-24T10:20:57.876060Z",
     "iopub.status.busy": "2025-10-24T10:20:57.875178Z",
     "iopub.status.idle": "2025-10-24T10:20:57.885037Z",
     "shell.execute_reply": "2025-10-24T10:20:57.883769Z",
     "shell.execute_reply.started": "2025-10-24T10:20:57.876032Z"
    },
    "trusted": true
   },
   "outputs": [
    {
     "name": "stdout",
     "output_type": "stream",
     "text": [
      "============================================================\n",
      "COMPREHENSIVE TEST RESULTS\n",
      "============================================================\n",
      "\n",
      "Train examples: 0/5\n",
      "Test examples: 0/1\n",
      "Arc-gen examples: 0/262\n",
      "\n",
      "TOTAL: 0/268 passed\n",
      "Success rate: 0.00%\n",
      "\n",
      "FAILURE: SOLUTION FAILED\n",
      "Details: FAILURE: 0/268 passed (268 failed)\n",
      "  Failure 1: train[0] - Output mismatch\n",
      "  Failure 2: train[1] - Output mismatch\n",
      "  Failure 3: train[2] - Output mismatch\n",
      "  ... and 265 more failures\n"
     ]
    }
   ],
   "source": [
    "# Test solution comprehensively\n",
    "is_correct, message, stats = solver.test_solution(solve_v1, task_data, verbose=False)\n",
    "\n",
    "print(\"=\"*60)\n",
    "print(\"COMPREHENSIVE TEST RESULTS\")\n",
    "print(\"=\"*60)\n",
    "print(f\"\\nTrain examples: {stats['train']['passed']}/{stats['train']['total']}\")\n",
    "print(f\"Test examples: {stats['test']['passed']}/{stats['test']['total']}\")\n",
    "print(f\"Arc-gen examples: {stats['arc-gen']['passed']}/{stats['arc-gen']['total']}\")\n",
    "\n",
    "total_passed = sum(s['passed'] for s in stats.values())\n",
    "total_tests = sum(s['total'] for s in stats.values())\n",
    "\n",
    "print(f\"\\nTOTAL: {total_passed}/{total_tests} passed\")\n",
    "print(f\"Success rate: {100 * total_passed / total_tests:.2f}%\")\n",
    "\n",
    "if is_correct:\n",
    "    print(\"\\nSUCCESS: SOLUTION IS CORRECT\")\n",
    "else:\n",
    "    print(f\"\\nFAILURE: SOLUTION FAILED\")\n",
    "    print(f\"Details: {message}\")"
   ]
  },
  {
   "cell_type": "code",
   "execution_count": 14,
   "metadata": {
    "execution": {
     "iopub.execute_input": "2025-10-24T10:21:08.355457Z",
     "iopub.status.busy": "2025-10-24T10:21:08.355163Z",
     "iopub.status.idle": "2025-10-24T10:21:08.365249Z",
     "shell.execute_reply": "2025-10-24T10:21:08.364095Z",
     "shell.execute_reply.started": "2025-10-24T10:21:08.355435Z"
    },
    "trusted": true
   },
   "outputs": [
    {
     "name": "stdout",
     "output_type": "stream",
     "text": [
      "CODE GOLF OPTIMIZATION RESULTS:\n",
      "============================================================\n",
      "\n",
      "Initial version (clear):\n",
      "  Byte count: 120\n",
      "  Score (if correct): 2380\n",
      "\n",
      "Optimized version (golf):\n",
      "  Byte count: 36\n",
      "  Score (if correct): 2464\n",
      "\n",
      "Improvement:\n",
      "  Bytes saved: 84\n",
      "  Points gained: 84\n",
      "\n",
      "Optimized version correctness: FAIL\n"
     ]
    }
   ],
   "source": [
    "# Optimized version - minimize byte count\n",
    "solve = lambda g: [r*3 for r in g]*3\n",
    "\n",
    "# Compare byte counts\n",
    "v1_code = \"def solve_v1(grid):\\n    tiled_horizontal = [row * 3 for row in grid]\\n    result = tiled_horizontal * 3\\n    return result\"\n",
    "v2_code = \"solve = lambda g: [r*3 for r in g]*3\"\n",
    "\n",
    "v1_bytes = len(v1_code.encode('utf-8'))\n",
    "v2_bytes = len(v2_code.encode('utf-8'))\n",
    "\n",
    "print(\"CODE GOLF OPTIMIZATION RESULTS:\")\n",
    "print(\"=\"*60)\n",
    "print(f\"\\nInitial version (clear):\")\n",
    "print(f\"  Byte count: {v1_bytes}\")\n",
    "print(f\"  Score (if correct): {max(1, 2500 - v1_bytes)}\")\n",
    "\n",
    "print(f\"\\nOptimized version (golf):\")\n",
    "print(f\"  Byte count: {v2_bytes}\")\n",
    "print(f\"  Score (if correct): {max(1, 2500 - v2_bytes)}\")\n",
    "\n",
    "print(f\"\\nImprovement:\")\n",
    "print(f\"  Bytes saved: {v1_bytes - v2_bytes}\")\n",
    "print(f\"  Points gained: {max(1, 2500 - v2_bytes) - max(1, 2500 - v1_bytes)}\")\n",
    "\n",
    "# Verify optimized version still works\n",
    "is_correct_opt, _, _ = solver.test_solution(solve, task_data, verbose=False)\n",
    "print(f\"\\nOptimized version correctness: {'PASS' if is_correct_opt else 'FAIL'}\")"
   ]
  },
  {
   "cell_type": "code",
   "execution_count": 15,
   "metadata": {
    "execution": {
     "iopub.execute_input": "2025-10-24T10:21:20.104839Z",
     "iopub.status.busy": "2025-10-24T10:21:20.104462Z",
     "iopub.status.idle": "2025-10-24T10:21:20.119161Z",
     "shell.execute_reply": "2025-10-24T10:21:20.117877Z",
     "shell.execute_reply.started": "2025-10-24T10:21:20.104816Z"
    },
    "trusted": true
   },
   "outputs": [
    {
     "name": "stdout",
     "output_type": "stream",
     "text": [
      "================================================================================\n",
      "PROCESSING SOLUTION FOR TASK 001\n",
      "================================================================================\n",
      "  [train] Example 1/5: FAIL\n",
      "  [train] Example 2/5: FAIL\n",
      "  [train] Example 3/5: FAIL\n",
      "  [train] Example 4/5: FAIL\n",
      "  [train] Example 5/5: FAIL\n",
      "  [test] Example 1/1: FAIL\n",
      "\n",
      "Test Results:\n",
      "  Train:   0/5 passed\n",
      "  Test:    0/1 passed\n",
      "  Arc-gen: 0/262 passed\n",
      "  TOTAL:   0/268 passed\n",
      "\n",
      "Metrics:\n",
      "  Correctness: FAIL\n",
      "  Byte count:  33 bytes\n",
      "  Score:       0.001 points\n",
      "\n",
      "FAILURE: 0/268 passed (268 failed)\n",
      "  Failure 1: train[0] - Output mismatch\n",
      "  Failure 2: train[1] - Output mismatch\n",
      "  Failure 3: train[2] - Output mismatch\n",
      "  ... and 265 more failures\n",
      "================================================================================\n",
      "\n",
      "============================================================\n",
      "FINAL RESULTS\n",
      "============================================================\n",
      "Task ID: 1\n",
      "Correctness: FAIL\n",
      "Byte count: 33\n",
      "Score: 0.001 points\n",
      "\n",
      "Solution not saved (failed validation)\n"
     ]
    }
   ],
   "source": [
    "# Final solution code (as it will be saved)\n",
    "final_solution = \"\"\"solve=lambda g:[r*3 for r in g]*3\"\"\"\n",
    "\n",
    "# Process solution and save if correct\n",
    "result = solver.process_solution(TASK_ID, final_solution, verbose=True)\n",
    "\n",
    "print(\"\\n\" + \"=\"*60)\n",
    "print(\"FINAL RESULTS\")\n",
    "print(\"=\"*60)\n",
    "print(f\"Task ID: {result['task_id']}\")\n",
    "print(f\"Correctness: {'PASS' if result['success'] else 'FAIL'}\")\n",
    "print(f\"Byte count: {result['byte_count']}\")\n",
    "print(f\"Score: {result['score']:.3f} points\")\n",
    "\n",
    "if result['success']:\n",
    "    print(f\"\\nSolution saved to: solutions/task{TASK_ID:03d}.py\")\n",
    "else:\n",
    "    print(f\"\\nSolution not saved (failed validation)\")"
   ]
  },
  {
   "cell_type": "code",
   "execution_count": 16,
   "metadata": {
    "execution": {
     "iopub.execute_input": "2025-10-24T10:21:32.894907Z",
     "iopub.status.busy": "2025-10-24T10:21:32.894595Z",
     "iopub.status.idle": "2025-10-24T10:21:33.186170Z",
     "shell.execute_reply": "2025-10-24T10:21:33.184678Z",
     "shell.execute_reply.started": "2025-10-24T10:21:32.894885Z"
    },
    "trusted": true
   },
   "outputs": [
    {
     "name": "stdout",
     "output_type": "stream",
     "text": [
      "Analyzing tasks 1 to 10...\n",
      "============================================================\n",
      "Task 001: train=5, test=1, arc-gen=262, total=268\n",
      "Task 002: train=5, test=1, arc-gen=262, total=268\n",
      "Task 003: train=3, test=1, arc-gen=261, total=265\n",
      "Task 004: train=2, test=1, arc-gen=262, total=265\n",
      "Task 005: train=3, test=1, arc-gen=262, total=266\n",
      "Task 006: train=3, test=1, arc-gen=262, total=266\n",
      "Task 007: train=3, test=1, arc-gen=262, total=266\n",
      "Task 008: train=3, test=1, arc-gen=262, total=266\n",
      "Task 009: train=3, test=1, arc-gen=261, total=265\n",
      "Task 010: train=2, test=1, arc-gen=262, total=265\n",
      "============================================================\n"
     ]
    }
   ],
   "source": [
    "# Batch analyze multiple tasks\n",
    "START_TASK = 1\n",
    "END_TASK = 10\n",
    "\n",
    "print(f\"Analyzing tasks {START_TASK} to {END_TASK}...\")\n",
    "print(\"=\"*60)\n",
    "\n",
    "for task_id in range(START_TASK, END_TASK + 1):\n",
    "    try:\n",
    "        analysis = solver.analyze_task(task_id)\n",
    "        print(f\"Task {task_id:03d}: \"\n",
    "              f\"train={analysis['train_count']}, \"\n",
    "              f\"test={analysis['test_count']}, \"\n",
    "              f\"arc-gen={analysis['arc_gen_count']}, \"\n",
    "              f\"total={analysis['total_pairs']}\")\n",
    "    except Exception as e:\n",
    "        print(f\"Task {task_id:03d}: ERROR - {e}\")\n",
    "\n",
    "print(\"=\"*60)"
   ]
  },
  {
   "cell_type": "code",
   "execution_count": 17,
   "metadata": {
    "execution": {
     "iopub.execute_input": "2025-10-24T10:21:42.686328Z",
     "iopub.status.busy": "2025-10-24T10:21:42.685352Z",
     "iopub.status.idle": "2025-10-24T10:21:42.691713Z",
     "shell.execute_reply": "2025-10-24T10:21:42.690723Z",
     "shell.execute_reply.started": "2025-10-24T10:21:42.686296Z"
    },
    "trusted": true
   },
   "outputs": [
    {
     "name": "stdout",
     "output_type": "stream",
     "text": [
      "================================================================================\n",
      "PROGRESS REPORT\n",
      "================================================================================\n",
      "Tasks solved:     0/400 (0.0%)\n",
      "Total score:      0.00 points\n",
      "================================================================================\n",
      "\n"
     ]
    }
   ],
   "source": [
    "# Display progress report\n",
    "solver.report_progress()"
   ]
  },
  {
   "cell_type": "code",
   "execution_count": null,
   "metadata": {
    "trusted": true
   },
   "outputs": [],
   "source": [
    "# CORRECTED SOLUTION FOR TASK 1\n",
    "# Pattern: Create a 3x3 tiling where each tile is either the input grid or zeros\n",
    "\n",
    "def solve_corrected(g):\n",
    "    \"\"\"\n",
    "    Each cell value in the input determines what goes in that tile position:\n",
    "    - If cell is 0: place a 3x3 block of zeros\n",
    "    - If cell is non-zero: place the input grid itself\n",
    "    \"\"\"\n",
    "    n = len(g)\n",
    "    result = []\n",
    "    for i in range(n):\n",
    "        for sub_row in range(n):\n",
    "            row = []\n",
    "            for j in range(n):\n",
    "                if g[i][j] == 0:\n",
    "                    row.extend([0] * n)\n",
    "                else:\n",
    "                    row.extend(g[sub_row])\n",
    "            result.append(row)\n",
    "    return result\n",
    "\n",
    "# Test the corrected solution\n",
    "TASK_ID = 1\n",
    "task_data = solver.load_task(TASK_ID)\n",
    "\n",
    "# First, manually verify with Example 1\n",
    "print(\"Manual verification with Example 1:\")\n",
    "test_input = task_data['train'][0]['input']\n",
    "test_output = task_data['train'][0]['output']\n",
    "my_output = solve_corrected(test_input)\n",
    "\n",
    "print(f\"Input: {test_input}\")\n",
    "print(f\"\\nMy output matches expected: {my_output == test_output}\")\n",
    "\n",
    "if my_output != test_output:\n",
    "    print(\"\\nExpected first 3 rows:\")\n",
    "    for row in test_output[:3]:\n",
    "        print(f\"  {row}\")\n",
    "    print(\"\\nGot first 3 rows:\")\n",
    "    for row in my_output[:3]:\n",
    "        print(f\"  {row}\")\n",
    "\n",
    "print(\"\\n\" + \"=\"*60)\n",
    "\n",
    "# Now test comprehensively\n",
    "is_correct, message, stats = solver.test_solution(solve_corrected, task_data, verbose=False)\n",
    "\n",
    "print(\"CORRECTED SOLUTION TEST\")\n",
    "print(\"=\"*60)\n",
    "print(f\"Train examples: {stats['train']['passed']}/{stats['train']['total']}\")\n",
    "print(f\"Test examples: {stats['test']['passed']}/{stats['test']['total']}\")\n",
    "print(f\"Arc-gen examples: {stats['arc-gen']['passed']}/{stats['arc-gen']['total']}\")\n",
    "\n",
    "total_passed = sum(s['passed'] for s in stats.values())\n",
    "total_tests = sum(s['total'] for s in stats.values())\n",
    "\n",
    "print(f\"\\nTOTAL: {total_passed}/{total_tests} passed\")\n",
    "print(f\"Success rate: {100 * total_passed / total_tests:.2f}%\")\n",
    "\n",
    "if is_correct:\n",
    "    print(\"\\nSUCCESS: SOLUTION IS CORRECT\")\n",
    "    \n",
    "    # Now optimize for code golf\n",
    "    print(\"\\n\" + \"=\"*60)\n",
    "    print(\"CODE GOLF OPTIMIZATION\")\n",
    "    print(\"=\"*60)\n",
    "    \n",
    "    # Optimized version - more compact\n",
    "    solve = lambda g: [[x for j in range(len(g)) for x in (g[s] if g[i][j] else [0]*len(g))] for i in range(len(g)) for s in range(len(g))]\n",
    "    \n",
    "    # Alternative even shorter\n",
    "    solve2 = lambda g:sum([[[0]*len(g)if g[i][j]==0 else g[s]for j in range(len(g))]for i in range(len(g))for s in range(len(g))],[])\n",
    "    \n",
    "    # Test both optimized versions\n",
    "    is_opt1_correct, _, _ = solver.test_solution(solve, task_data, verbose=False)\n",
    "    is_opt2_correct, _, _ = solver.test_solution(solve2, task_data, verbose=False)\n",
    "    \n",
    "    code1 = \"solve=lambda g:[[x for j in range(len(g)) for x in (g[s] if g[i][j] else [0]*len(g))] for i in range(len(g)) for s in range(len(g))]\"\n",
    "    code2 = \"solve=lambda g:sum([[[0]*len(g)if g[i][j]==0 else g[s]for j in range(len(g))]for i in range(len(g))for s in range(len(g))],[])\"\n",
    "    \n",
    "    bytes1 = len(code1.encode('utf-8'))\n",
    "    bytes2 = len(code2.encode('utf-8'))\n",
    "    \n",
    "    print(f\"\\nVersion 1:\")\n",
    "    print(f\"  Correctness: {'PASS' if is_opt1_correct else 'FAIL'}\")\n",
    "    print(f\"  Byte count: {bytes1}\")\n",
    "    print(f\"  Score: {max(1, 2500 - bytes1)} points\")\n",
    "    \n",
    "    print(f\"\\nVersion 2:\")\n",
    "    print(f\"  Correctness: {'PASS' if is_opt2_correct else 'FAIL'}\")\n",
    "    print(f\"  Byte count: {bytes2}\")\n",
    "    print(f\"  Score: {max(1, 2500 - bytes2)} points\")\n",
    "    \n",
    "    # Show the best working version\n",
    "    if is_opt1_correct:\n",
    "        print(f\"\\nBEST SOLUTION (Version 1):\")\n",
    "        print(f\"  Code: {code1}\")\n",
    "    elif is_opt2_correct:\n",
    "        print(f\"\\nBEST SOLUTION (Version 2):\")\n",
    "        print(f\"  Code: {code2}\")\n",
    "    \n",
    "else:\n",
    "    print(f\"\\nFAILURE: {message}\")\n"
   ]
  }
 ],
 "metadata": {
  "kaggle": {
   "accelerator": "none",
   "dataSources": [],
   "dockerImageVersionId": 31153,
   "isGpuEnabled": false,
   "isInternetEnabled": true,
   "language": "python",
   "sourceType": "notebook"
  },
  "kernelspec": {
   "display_name": "Python 3",
   "language": "python",
   "name": "python3"
  },
  "language_info": {
   "codemirror_mode": {
    "name": "ipython",
    "version": 3
   },
   "file_extension": ".py",
   "mimetype": "text/x-python",
   "name": "python",
   "nbconvert_exporter": "python",
   "pygments_lexer": "ipython3",
   "version": "3.11.13"
  }
 },
 "nbformat": 4,
 "nbformat_minor": 4
}
